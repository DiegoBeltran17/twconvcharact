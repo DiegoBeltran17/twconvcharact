{
 "cells": [
  {
   "cell_type": "code",
   "execution_count": 24,
   "metadata": {},
   "outputs": [],
   "source": [
    "%matplotlib inline\n",
    "import matplotlib\n",
    "import matplotlib.pyplot as plt\n",
    "import seaborn as sns\n",
    "import pandas as pd\n",
    "import numpy as np\n",
    "from source.conversation_helper import conversation_filter\n",
    "from source.visualization_helper import init_plot_style"
   ]
  },
  {
   "cell_type": "code",
   "execution_count": 25,
   "metadata": {
    "collapsed": true
   },
   "outputs": [],
   "source": [
    "init_plot_style()"
   ]
  },
  {
   "cell_type": "code",
   "execution_count": 6,
   "metadata": {},
   "outputs": [
    {
     "data": {
      "text/plain": [
       "(2716464, 6)"
      ]
     },
     "execution_count": 6,
     "metadata": {},
     "output_type": "execute_result"
    }
   ],
   "source": [
    "ds = pd.read_csv('/Users/john/data/twitter/tweets_ec_nd_conv.csv', usecols=['id', 'screen_name', 'text', 'hashtags','num_replies', 'conversation_id'])\n",
    "ds.shape"
   ]
  },
  {
   "cell_type": "code",
   "execution_count": 7,
   "metadata": {},
   "outputs": [
    {
     "data": {
      "text/plain": [
       "(914381, 8)"
      ]
     },
     "execution_count": 7,
     "metadata": {},
     "output_type": "execute_result"
    }
   ],
   "source": [
    "conv = conversation_filter(ds)\n",
    "conv.shape"
   ]
  },
  {
   "cell_type": "markdown",
   "metadata": {},
   "source": [
    "# text"
   ]
  },
  {
   "cell_type": "code",
   "execution_count": 8,
   "metadata": {
    "collapsed": true
   },
   "outputs": [],
   "source": [
    "conv['textlen'] = conv.text.str.len();"
   ]
  },
  {
   "cell_type": "code",
   "execution_count": 9,
   "metadata": {
    "scrolled": false
   },
   "outputs": [
    {
     "data": {
      "image/png": "[encoded data removed]",
      "text/plain": [
       "<matplotlib.figure.Figure at 0x1182450f0>"
      ]
     },
     "metadata": {},
     "output_type": "display_data"
    }
   ],
   "source": [
    "#textlen=ds.groupby('textlen').size()\n",
    "#textlen.reset_index(inplace=True)\n",
    "fig = plt.figure()\n",
    "conv.textlen.plot.hist( bins=100)\n",
    "#plt.xscale('log')\n",
    "plt.title('number of chars in tweets')\n",
    "plt.xlabel('chars')\n",
    "plt.xlim([0, 180])\n",
    "#plt.xscale('log')\n",
    "fig.autofmt_xdate()"
   ]
  },
  {
   "cell_type": "markdown",
   "metadata": {},
   "source": [
    "# hashtags"
   ]
  },
  {
   "cell_type": "code",
   "execution_count": 12,
   "metadata": {
    "collapsed": true
   },
   "outputs": [],
   "source": [
    "s = conv[\"hashtags\"].str.split(';', expand=True).stack()"
   ]
  },
  {
   "cell_type": "code",
   "execution_count": 13,
   "metadata": {},
   "outputs": [
    {
     "data": {
      "text/html": [
       "<div>\n",
       "<style>\n",
       "    .dataframe thead tr:only-child th {\n",
       "        text-align: right;\n",
       "    }\n",
       "\n",
       "    .dataframe thead th {\n",
       "        text-align: left;\n",
       "    }\n",
       "\n",
       "    .dataframe tbody tr th {\n",
       "        vertical-align: top;\n",
       "    }\n",
       "</style>\n",
       "<table border=\"1\" class=\"dataframe\">\n",
       "  <thead>\n",
       "    <tr style=\"text-align: right;\">\n",
       "      <th></th>\n",
       "      <th>id</th>\n",
       "      <th>hashtags</th>\n",
       "    </tr>\n",
       "  </thead>\n",
       "  <tbody>\n",
       "    <tr>\n",
       "      <th>0</th>\n",
       "      <td>838977507487547393</td>\n",
       "      <td>VoyACNCOconDNA</td>\n",
       "    </tr>\n",
       "    <tr>\n",
       "      <th>1</th>\n",
       "      <td>838977593403666432</td>\n",
       "      <td>VoyACNCOconDNA</td>\n",
       "    </tr>\n",
       "    <tr>\n",
       "      <th>2</th>\n",
       "      <td>838978411460767745</td>\n",
       "      <td>VoyACNCOconDNA</td>\n",
       "    </tr>\n",
       "    <tr>\n",
       "      <th>3</th>\n",
       "      <td>838997472966021120</td>\n",
       "      <td>VoyACNCOconDNA</td>\n",
       "    </tr>\n",
       "    <tr>\n",
       "      <th>4</th>\n",
       "      <td>838999765996224512</td>\n",
       "      <td>VoyACNCOconDNA</td>\n",
       "    </tr>\n",
       "  </tbody>\n",
       "</table>\n",
       "</div>"
      ],
      "text/plain": [
       "                   id        hashtags\n",
       "0  838977507487547393  VoyACNCOconDNA\n",
       "1  838977593403666432  VoyACNCOconDNA\n",
       "2  838978411460767745  VoyACNCOconDNA\n",
       "3  838997472966021120  VoyACNCOconDNA\n",
       "4  838999765996224512  VoyACNCOconDNA"
      ]
     },
     "execution_count": 13,
     "metadata": {},
     "output_type": "execute_result"
    }
   ],
   "source": [
    "i = s.index.get_level_values(0)\n",
    "s.index = s.index.droplevel(-1)\n",
    "ds_hashtags = ds[['id']].loc[i].copy()\n",
    "ds_hashtags['hashtags'] = s.values\n",
    "ds_hashtags.head()"
   ]
  },
  {
   "cell_type": "code",
   "execution_count": 15,
   "metadata": {},
   "outputs": [
    {
     "name": "stdout",
     "output_type": "stream",
     "text": [
      "0.03474737747306793\n"
     ]
    }
   ],
   "source": [
    "perc = ds_hashtags.id.nunique() / ds.shape[0]\n",
    "print(perc)"
   ]
  },
  {
   "cell_type": "code",
   "execution_count": 16,
   "metadata": {
    "collapsed": true
   },
   "outputs": [],
   "source": [
    "ht=ds_hashtags.groupby('hashtags').size()\n",
    "top=ht.sort_values(ascending=False).head(50)"
   ]
  },
  {
   "cell_type": "code",
   "execution_count": 17,
   "metadata": {},
   "outputs": [
    {
     "data": {
      "text/plain": [
       "<matplotlib.text.Text at 0x11acaaac8>"
      ]
     },
     "execution_count": 17,
     "metadata": {},
     "output_type": "execute_result"
    },
    {
     "data": {
      "image/png": "[encoded data removed]",
      "text/plain": [
       "<matplotlib.figure.Figure at 0x11ed37860>"
      ]
     },
     "metadata": {},
     "output_type": "display_data"
    }
   ],
   "source": [
    "x=range(1, len(top)+1,1)\n",
    "y=top.values\n",
    "plt.scatter(x, y, marker='x')\n",
    "plt.yscale('log')\n",
    "plt.xlabel('top 50 hashtags')\n",
    "plt.ylabel('tweets')"
   ]
  },
  {
   "cell_type": "code",
   "execution_count": 18,
   "metadata": {},
   "outputs": [
    {
     "name": "stdout",
     "output_type": "stream",
     "text": [
      "number of words with stop words removal: 4982412\n",
      "number of words (TF min:3): 86441\n"
     ]
    }
   ],
   "source": [
    "from nltk.corpus import stopwords\n",
    "from nltk.stem.snowball import SnowballStemmer\n",
    "from nltk.tokenize import word_tokenize\n",
    "import re\n",
    "\n",
    "use_stemmer = False\n",
    "stemmer = SnowballStemmer(\"spanish\")\n",
    "stopset = set(stopwords.words('english') + stopwords.words('spanish'))\n",
    "\n",
    "def tokenize(text):\n",
    "    text = re.sub(r\"(?:\\#|@|https?\\://)\\S+\", \"\", text)\n",
    "    text = re.sub(\"[^a-zA-Z] \",\"\",text)\n",
    "    text = re.sub(r'\\b\\w{1,2}\\b',' ',text)\n",
    "    text = re.sub(r'http[\\bs]*',' ',text)\n",
    "    tokens = word_tokenize(text)\n",
    "    if use_stemmer:\n",
    "        tokens = [stemmer.stem(t) for t in tokens]\n",
    "    return tokens\n",
    "\n",
    "words = ' '.join(conv['text'])\n",
    "\n",
    "use_stemmer=False\n",
    "word_list = tokenize(words)\n",
    "word_list = [word for word in word_list if word not in stopset]\n",
    "print(f'number of words with stop words removal: {len(word_list)}')\n",
    "\n",
    "\n",
    "wds = pd.DataFrame(word_list)\n",
    "wds.columns = ['word']\n",
    "wds=wds.word.value_counts().reset_index()\n",
    "wds.columns=['word', 'count']\n",
    "wds=wds[wds['count']>3]\n",
    "print(f'number of words (TF min:3): {len(wds)}')"
   ]
  },
  {
   "cell_type": "code",
   "execution_count": 19,
   "metadata": {
    "collapsed": true
   },
   "outputs": [],
   "source": [
    "wds2=wds.sort_values('count', ascending=False).head(1000)"
   ]
  },
  {
   "cell_type": "code",
   "execution_count": 20,
   "metadata": {},
   "outputs": [
    {
     "data": {
      "text/plain": [
       "(-0.5, 499.5, 299.5, -0.5)"
      ]
     },
     "execution_count": 20,
     "metadata": {},
     "output_type": "execute_result"
    },
    {
     "data": {
      "image/png": "[encoded data removed]",
      "text/plain": [
       "<matplotlib.figure.Figure at 0x118421f28>"
      ]
     },
     "metadata": {},
     "output_type": "display_data"
    }
   ],
   "source": [
    "from wordcloud import WordCloud\n",
    "filtered_words = ' '.join(wds2.word)\n",
    "wordcloud = WordCloud(background_color='white', width=500, height=300).generate(filtered_words)\n",
    "plt.imshow(wordcloud)\n",
    "plt.axis(\"off\")"
   ]
  },
  {
   "cell_type": "markdown",
   "metadata": {},
   "source": [
    "# text analysis"
   ]
  },
  {
   "cell_type": "code",
   "execution_count": 21,
   "metadata": {},
   "outputs": [
    {
     "name": "stdout",
     "output_type": "stream",
     "text": [
      "(47728, 9)\n"
     ]
    },
    {
     "data": {
      "text/html": [
       "<div>\n",
       "<style>\n",
       "    .dataframe thead tr:only-child th {\n",
       "        text-align: right;\n",
       "    }\n",
       "\n",
       "    .dataframe thead th {\n",
       "        text-align: left;\n",
       "    }\n",
       "\n",
       "    .dataframe tbody tr th {\n",
       "        vertical-align: top;\n",
       "    }\n",
       "</style>\n",
       "<table border=\"1\" class=\"dataframe\">\n",
       "  <thead>\n",
       "    <tr style=\"text-align: right;\">\n",
       "      <th></th>\n",
       "      <th>id</th>\n",
       "      <th>screen_name</th>\n",
       "      <th>text</th>\n",
       "      <th>hashtags</th>\n",
       "      <th>conversation_id</th>\n",
       "      <th>num_replies</th>\n",
       "      <th>num_users</th>\n",
       "      <th>num_tweets</th>\n",
       "      <th>textlen</th>\n",
       "    </tr>\n",
       "  </thead>\n",
       "  <tbody>\n",
       "    <tr>\n",
       "      <th>75</th>\n",
       "      <td>838952408432717825</td>\n",
       "      <td>Denissecnco</td>\n",
       "      <td>@DnaGlobalEvents ¿cuantos ganadores van a ser?...</td>\n",
       "      <td>NaN</td>\n",
       "      <td>838920932982992896</td>\n",
       "      <td>94</td>\n",
       "      <td>17</td>\n",
       "      <td>94</td>\n",
       "      <td>103</td>\n",
       "    </tr>\n",
       "    <tr>\n",
       "      <th>89</th>\n",
       "      <td>839505866483183616</td>\n",
       "      <td>gene_cncowner</td>\n",
       "      <td>@DnaGlobalEvents una pregunta .Hoy dirán a la ...</td>\n",
       "      <td>NaN</td>\n",
       "      <td>838920932982992896</td>\n",
       "      <td>94</td>\n",
       "      <td>17</td>\n",
       "      <td>94</td>\n",
       "      <td>55</td>\n",
       "    </tr>\n",
       "    <tr>\n",
       "      <th>93</th>\n",
       "      <td>838922043160657920</td>\n",
       "      <td>holyxcnco</td>\n",
       "      <td>@DnaGlobalEvents hasta cuando se puede partici...</td>\n",
       "      <td>NaN</td>\n",
       "      <td>838920932982992896</td>\n",
       "      <td>94</td>\n",
       "      <td>17</td>\n",
       "      <td>94</td>\n",
       "      <td>81</td>\n",
       "    </tr>\n",
       "    <tr>\n",
       "      <th>96</th>\n",
       "      <td>838977783133048836</td>\n",
       "      <td>xbroknheartsgox</td>\n",
       "      <td>@sheeilala_ jajajaja eres de mexico no??</td>\n",
       "      <td>NaN</td>\n",
       "      <td>838970516031537152</td>\n",
       "      <td>10</td>\n",
       "      <td>2</td>\n",
       "      <td>10</td>\n",
       "      <td>40</td>\n",
       "    </tr>\n",
       "    <tr>\n",
       "      <th>98</th>\n",
       "      <td>838975825923932161</td>\n",
       "      <td>xbroknheartsgox</td>\n",
       "      <td>@sheeilala_ jajajajaja que dia eres ; hermana ...</td>\n",
       "      <td>NaN</td>\n",
       "      <td>838970516031537152</td>\n",
       "      <td>10</td>\n",
       "      <td>2</td>\n",
       "      <td>10</td>\n",
       "      <td>61</td>\n",
       "    </tr>\n",
       "  </tbody>\n",
       "</table>\n",
       "</div>"
      ],
      "text/plain": [
       "                    id      screen_name  \\\n",
       "75  838952408432717825      Denissecnco   \n",
       "89  839505866483183616    gene_cncowner   \n",
       "93  838922043160657920        holyxcnco   \n",
       "96  838977783133048836  xbroknheartsgox   \n",
       "98  838975825923932161  xbroknheartsgox   \n",
       "\n",
       "                                                 text hashtags  \\\n",
       "75  @DnaGlobalEvents ¿cuantos ganadores van a ser?...      NaN   \n",
       "89  @DnaGlobalEvents una pregunta .Hoy dirán a la ...      NaN   \n",
       "93  @DnaGlobalEvents hasta cuando se puede partici...      NaN   \n",
       "96           @sheeilala_ jajajaja eres de mexico no??      NaN   \n",
       "98  @sheeilala_ jajajajaja que dia eres ; hermana ...      NaN   \n",
       "\n",
       "       conversation_id  num_replies  num_users  num_tweets  textlen  \n",
       "75  838920932982992896           94         17          94      103  \n",
       "89  838920932982992896           94         17          94       55  \n",
       "93  838920932982992896           94         17          94       81  \n",
       "96  838970516031537152           10          2          10       40  \n",
       "98  838970516031537152           10          2          10       61  "
      ]
     },
     "execution_count": 21,
     "metadata": {},
     "output_type": "execute_result"
    }
   ],
   "source": [
    "questions=conv[conv.text.str.endswith('?')]\n",
    "print(questions.shape)\n",
    "questions.head()"
   ]
  },
  {
   "cell_type": "code",
   "execution_count": 22,
   "metadata": {},
   "outputs": [
    {
     "name": "stdout",
     "output_type": "stream",
     "text": [
      "(40091, 9)\n"
     ]
    },
    {
     "data": {
      "text/html": [
       "<div>\n",
       "<style>\n",
       "    .dataframe thead tr:only-child th {\n",
       "        text-align: right;\n",
       "    }\n",
       "\n",
       "    .dataframe thead th {\n",
       "        text-align: left;\n",
       "    }\n",
       "\n",
       "    .dataframe tbody tr th {\n",
       "        vertical-align: top;\n",
       "    }\n",
       "</style>\n",
       "<table border=\"1\" class=\"dataframe\">\n",
       "  <thead>\n",
       "    <tr style=\"text-align: right;\">\n",
       "      <th></th>\n",
       "      <th>id</th>\n",
       "      <th>screen_name</th>\n",
       "      <th>text</th>\n",
       "      <th>hashtags</th>\n",
       "      <th>conversation_id</th>\n",
       "      <th>num_replies</th>\n",
       "      <th>num_users</th>\n",
       "      <th>num_tweets</th>\n",
       "      <th>textlen</th>\n",
       "    </tr>\n",
       "  </thead>\n",
       "  <tbody>\n",
       "    <tr>\n",
       "      <th>97</th>\n",
       "      <td>838974538574614529</td>\n",
       "      <td>xbroknheartsgox</td>\n",
       "      <td>@sheeilala_ si!!! supongo q tu tambien!!!</td>\n",
       "      <td>NaN</td>\n",
       "      <td>838970516031537152</td>\n",
       "      <td>10</td>\n",
       "      <td>2</td>\n",
       "      <td>10</td>\n",
       "      <td>41</td>\n",
       "    </tr>\n",
       "    <tr>\n",
       "      <th>105</th>\n",
       "      <td>838975142306938880</td>\n",
       "      <td>sheeilala_</td>\n",
       "      <td>@xbroknheartsgox Siiiiiiiiiii!!!!!!</td>\n",
       "      <td>NaN</td>\n",
       "      <td>838970516031537152</td>\n",
       "      <td>10</td>\n",
       "      <td>2</td>\n",
       "      <td>10</td>\n",
       "      <td>35</td>\n",
       "    </tr>\n",
       "    <tr>\n",
       "      <th>218</th>\n",
       "      <td>838972229731946496</td>\n",
       "      <td>xbroknheartsgox</td>\n",
       "      <td>@pudinilla el \"awwwww\" yo lo tomaba asi como \"...</td>\n",
       "      <td>NaN</td>\n",
       "      <td>838970636244484097</td>\n",
       "      <td>15</td>\n",
       "      <td>2</td>\n",
       "      <td>15</td>\n",
       "      <td>85</td>\n",
       "    </tr>\n",
       "    <tr>\n",
       "      <th>220</th>\n",
       "      <td>838975659590418437</td>\n",
       "      <td>xbroknheartsgox</td>\n",
       "      <td>@pudinilla que bueno que sea mutuo porque imag...</td>\n",
       "      <td>NaN</td>\n",
       "      <td>838970636244484097</td>\n",
       "      <td>15</td>\n",
       "      <td>2</td>\n",
       "      <td>15</td>\n",
       "      <td>85</td>\n",
       "    </tr>\n",
       "    <tr>\n",
       "      <th>229</th>\n",
       "      <td>838978467928682496</td>\n",
       "      <td>chicade1994</td>\n",
       "      <td>@xbroknheartsgox Jajajajajajajajaja \"no tengo ...</td>\n",
       "      <td>NaN</td>\n",
       "      <td>838970636244484097</td>\n",
       "      <td>15</td>\n",
       "      <td>2</td>\n",
       "      <td>15</td>\n",
       "      <td>122</td>\n",
       "    </tr>\n",
       "  </tbody>\n",
       "</table>\n",
       "</div>"
      ],
      "text/plain": [
       "                     id      screen_name  \\\n",
       "97   838974538574614529  xbroknheartsgox   \n",
       "105  838975142306938880       sheeilala_   \n",
       "218  838972229731946496  xbroknheartsgox   \n",
       "220  838975659590418437  xbroknheartsgox   \n",
       "229  838978467928682496      chicade1994   \n",
       "\n",
       "                                                  text hashtags  \\\n",
       "97           @sheeilala_ si!!! supongo q tu tambien!!!      NaN   \n",
       "105                @xbroknheartsgox Siiiiiiiiiii!!!!!!      NaN   \n",
       "218  @pudinilla el \"awwwww\" yo lo tomaba asi como \"...      NaN   \n",
       "220  @pudinilla que bueno que sea mutuo porque imag...      NaN   \n",
       "229  @xbroknheartsgox Jajajajajajajajaja \"no tengo ...      NaN   \n",
       "\n",
       "        conversation_id  num_replies  num_users  num_tweets  textlen  \n",
       "97   838970516031537152           10          2          10       41  \n",
       "105  838970516031537152           10          2          10       35  \n",
       "218  838970636244484097           15          2          15       85  \n",
       "220  838970636244484097           15          2          15       85  \n",
       "229  838970636244484097           15          2          15      122  "
      ]
     },
     "execution_count": 22,
     "metadata": {},
     "output_type": "execute_result"
    }
   ],
   "source": [
    "admiration=conv[conv.text.str.endswith('!')]\n",
    "print(admiration.shape)\n",
    "admiration.head()"
   ]
  },
  {
   "cell_type": "code",
   "execution_count": 23,
   "metadata": {},
   "outputs": [
    {
     "name": "stdout",
     "output_type": "stream",
     "text": [
      "(22491, 9)\n"
     ]
    },
    {
     "data": {
      "text/html": [
       "<div>\n",
       "<style>\n",
       "    .dataframe thead tr:only-child th {\n",
       "        text-align: right;\n",
       "    }\n",
       "\n",
       "    .dataframe thead th {\n",
       "        text-align: left;\n",
       "    }\n",
       "\n",
       "    .dataframe tbody tr th {\n",
       "        vertical-align: top;\n",
       "    }\n",
       "</style>\n",
       "<table border=\"1\" class=\"dataframe\">\n",
       "  <thead>\n",
       "    <tr style=\"text-align: right;\">\n",
       "      <th></th>\n",
       "      <th>id</th>\n",
       "      <th>screen_name</th>\n",
       "      <th>text</th>\n",
       "      <th>hashtags</th>\n",
       "      <th>conversation_id</th>\n",
       "      <th>num_replies</th>\n",
       "      <th>num_users</th>\n",
       "      <th>num_tweets</th>\n",
       "      <th>textlen</th>\n",
       "    </tr>\n",
       "  </thead>\n",
       "  <tbody>\n",
       "    <tr>\n",
       "      <th>219</th>\n",
       "      <td>838973249451081728</td>\n",
       "      <td>xbroknheartsgox</td>\n",
       "      <td>@pudinilla -_- ; te odio....</td>\n",
       "      <td>NaN</td>\n",
       "      <td>838970636244484097</td>\n",
       "      <td>15</td>\n",
       "      <td>2</td>\n",
       "      <td>15</td>\n",
       "      <td>28</td>\n",
       "    </tr>\n",
       "    <tr>\n",
       "      <th>237</th>\n",
       "      <td>838979377488670720</td>\n",
       "      <td>el_flacotirador</td>\n",
       "      <td>@danielg195 a cocachos aprendí...</td>\n",
       "      <td>NaN</td>\n",
       "      <td>838959074846728192</td>\n",
       "      <td>2</td>\n",
       "      <td>2</td>\n",
       "      <td>2</td>\n",
       "      <td>33</td>\n",
       "    </tr>\n",
       "    <tr>\n",
       "      <th>247</th>\n",
       "      <td>838980024543948804</td>\n",
       "      <td>HOMBRE_AZUL_PE</td>\n",
       "      <td>@Politico_pe NO VA A HACER CASO....\\nA CIERTA ...</td>\n",
       "      <td>NaN</td>\n",
       "      <td>838977525174849536</td>\n",
       "      <td>2</td>\n",
       "      <td>2</td>\n",
       "      <td>2</td>\n",
       "      <td>113</td>\n",
       "    </tr>\n",
       "    <tr>\n",
       "      <th>271</th>\n",
       "      <td>838953611707236355</td>\n",
       "      <td>EstefyRey</td>\n",
       "      <td>@merianmadeleine @MashiRafael @viviana_bonilla...</td>\n",
       "      <td>NaN</td>\n",
       "      <td>838926562124779520</td>\n",
       "      <td>17</td>\n",
       "      <td>3</td>\n",
       "      <td>17</td>\n",
       "      <td>105</td>\n",
       "    </tr>\n",
       "    <tr>\n",
       "      <th>286</th>\n",
       "      <td>838953859477307392</td>\n",
       "      <td>a1ejandro_az</td>\n",
       "      <td>@huyrol promoción estaba en pretemporada..esto...</td>\n",
       "      <td>NaN</td>\n",
       "      <td>837757300874051584</td>\n",
       "      <td>3</td>\n",
       "      <td>2</td>\n",
       "      <td>3</td>\n",
       "      <td>71</td>\n",
       "    </tr>\n",
       "  </tbody>\n",
       "</table>\n",
       "</div>"
      ],
      "text/plain": [
       "                     id      screen_name  \\\n",
       "219  838973249451081728  xbroknheartsgox   \n",
       "237  838979377488670720  el_flacotirador   \n",
       "247  838980024543948804   HOMBRE_AZUL_PE   \n",
       "271  838953611707236355        EstefyRey   \n",
       "286  838953859477307392     a1ejandro_az   \n",
       "\n",
       "                                                  text hashtags  \\\n",
       "219                       @pudinilla -_- ; te odio....      NaN   \n",
       "237                  @danielg195 a cocachos aprendí...      NaN   \n",
       "247  @Politico_pe NO VA A HACER CASO....\\nA CIERTA ...      NaN   \n",
       "271  @merianmadeleine @MashiRafael @viviana_bonilla...      NaN   \n",
       "286  @huyrol promoción estaba en pretemporada..esto...      NaN   \n",
       "\n",
       "        conversation_id  num_replies  num_users  num_tweets  textlen  \n",
       "219  838970636244484097           15          2          15       28  \n",
       "237  838959074846728192            2          2           2       33  \n",
       "247  838977525174849536            2          2           2      113  \n",
       "271  838926562124779520           17          3          17      105  \n",
       "286  837757300874051584            3          2           3       71  "
      ]
     },
     "execution_count": 23,
     "metadata": {},
     "output_type": "execute_result"
    }
   ],
   "source": [
    "suspense=conv[conv.text.str.endswith('..')]\n",
    "print(suspense.shape)\n",
    "suspense.head()"
   ]
  }
 ],
 "metadata": {
  "kernelspec": {
   "display_name": "Python 3",
   "language": "python",
   "name": "python3"
  },
  "language_info": {
   "codemirror_mode": {
    "name": "ipython",
    "version": 3
   },
   "file_extension": ".py",
   "mimetype": "text/x-python",
   "name": "python",
   "nbconvert_exporter": "python",
   "pygments_lexer": "ipython3",
   "version": "3.6.1"
  }
 },
 "nbformat": 4,
 "nbformat_minor": 2
}
