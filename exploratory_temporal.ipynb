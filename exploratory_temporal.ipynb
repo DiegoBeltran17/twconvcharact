{
 "cells": [
  {
   "cell_type": "code",
   "execution_count": 1,
   "metadata": {
    "collapsed": true
   },
   "outputs": [],
   "source": [
    "%matplotlib inline\n",
    "import matplotlib.pyplot as plt\n",
    "import matplotlib\n",
    "import pandas as pd\n",
    "import numpy as np\n",
    "import seaborn as sns\n",
    "from visualization_helper import init_plot_style\n",
    "from conversation_helper import conversation_filter"
   ]
  },
  {
   "cell_type": "code",
   "execution_count": 2,
   "metadata": {
    "collapsed": true
   },
   "outputs": [],
   "source": [
    "init_plot_style()"
   ]
  },
  {
   "cell_type": "code",
   "execution_count": 3,
   "metadata": {},
   "outputs": [
    {
     "name": "stdout",
     "output_type": "stream",
     "text": [
      "CPU times: user 9.67 s, sys: 1.05 s, total: 10.7 s\n",
      "Wall time: 10.9 s\n"
     ]
    }
   ],
   "source": [
    "%%time\n",
    "ds = pd.read_csv('/Users/john/data/twitter/twconvcharact/tweets_ec_nd_conv.csv', \n",
    "        usecols=['id', \n",
    "                 'conversation_id',\n",
    "                 'num_replies',\n",
    "                 'created_at',\n",
    "                ],\n",
    "                 dtype={\n",
    "                     'in_reply_to_status_id': object,\n",
    "                       },\n",
    "                 #parse_dates=['timestamp'],\n",
    "                )\n",
    "ds.shape"
   ]
  },
  {
   "cell_type": "code",
   "execution_count": 6,
   "metadata": {
    "collapsed": true
   },
   "outputs": [],
   "source": [
    "ds['timestamp'] = pd.to_datetime(ds['created_at'])"
   ]
  },
  {
   "cell_type": "code",
   "execution_count": 7,
   "metadata": {},
   "outputs": [
    {
     "name": "stdout",
     "output_type": "stream",
     "text": [
      "2009-03-07 17:57:46\n",
      "2017-07-12 21:13:54\n"
     ]
    }
   ],
   "source": [
    "print(ds.timestamp.min())\n",
    "print(ds.timestamp.max())"
   ]
  },
  {
   "cell_type": "code",
   "execution_count": 8,
   "metadata": {},
   "outputs": [
    {
     "data": {
      "text/html": [
       "<div>\n",
       "<style>\n",
       "    .dataframe thead tr:only-child th {\n",
       "        text-align: right;\n",
       "    }\n",
       "\n",
       "    .dataframe thead th {\n",
       "        text-align: left;\n",
       "    }\n",
       "\n",
       "    .dataframe tbody tr th {\n",
       "        vertical-align: top;\n",
       "    }\n",
       "</style>\n",
       "<table border=\"1\" class=\"dataframe\">\n",
       "  <thead>\n",
       "    <tr style=\"text-align: right;\">\n",
       "      <th></th>\n",
       "      <th>id</th>\n",
       "      <th>created_at</th>\n",
       "      <th>conversation_id</th>\n",
       "      <th>num_replies</th>\n",
       "      <th>timestamp</th>\n",
       "      <th>created</th>\n",
       "    </tr>\n",
       "  </thead>\n",
       "  <tbody>\n",
       "    <tr>\n",
       "      <th>0</th>\n",
       "      <td>838977507487547393</td>\n",
       "      <td>Tue Mar 07 04:59:59 +0000 2017</td>\n",
       "      <td>838920932982992896</td>\n",
       "      <td>94</td>\n",
       "      <td>2017-03-07 04:59:59</td>\n",
       "      <td>2017-03-07</td>\n",
       "    </tr>\n",
       "    <tr>\n",
       "      <th>1</th>\n",
       "      <td>838977593403666432</td>\n",
       "      <td>Tue Mar 07 05:00:20 +0000 2017</td>\n",
       "      <td>838920932982992896</td>\n",
       "      <td>94</td>\n",
       "      <td>2017-03-07 05:00:20</td>\n",
       "      <td>2017-03-07</td>\n",
       "    </tr>\n",
       "    <tr>\n",
       "      <th>2</th>\n",
       "      <td>838978411460767745</td>\n",
       "      <td>Tue Mar 07 05:03:35 +0000 2017</td>\n",
       "      <td>838920932982992896</td>\n",
       "      <td>94</td>\n",
       "      <td>2017-03-07 05:03:35</td>\n",
       "      <td>2017-03-07</td>\n",
       "    </tr>\n",
       "    <tr>\n",
       "      <th>3</th>\n",
       "      <td>838997472966021120</td>\n",
       "      <td>Tue Mar 07 06:19:20 +0000 2017</td>\n",
       "      <td>838920932982992896</td>\n",
       "      <td>94</td>\n",
       "      <td>2017-03-07 06:19:20</td>\n",
       "      <td>2017-03-07</td>\n",
       "    </tr>\n",
       "    <tr>\n",
       "      <th>4</th>\n",
       "      <td>838999765996224512</td>\n",
       "      <td>Tue Mar 07 06:28:26 +0000 2017</td>\n",
       "      <td>838920932982992896</td>\n",
       "      <td>94</td>\n",
       "      <td>2017-03-07 06:28:26</td>\n",
       "      <td>2017-03-07</td>\n",
       "    </tr>\n",
       "  </tbody>\n",
       "</table>\n",
       "</div>"
      ],
      "text/plain": [
       "                   id                      created_at     conversation_id  \\\n",
       "0  838977507487547393  Tue Mar 07 04:59:59 +0000 2017  838920932982992896   \n",
       "1  838977593403666432  Tue Mar 07 05:00:20 +0000 2017  838920932982992896   \n",
       "2  838978411460767745  Tue Mar 07 05:03:35 +0000 2017  838920932982992896   \n",
       "3  838997472966021120  Tue Mar 07 06:19:20 +0000 2017  838920932982992896   \n",
       "4  838999765996224512  Tue Mar 07 06:28:26 +0000 2017  838920932982992896   \n",
       "\n",
       "   num_replies           timestamp     created  \n",
       "0           94 2017-03-07 04:59:59  2017-03-07  \n",
       "1           94 2017-03-07 05:00:20  2017-03-07  \n",
       "2           94 2017-03-07 05:03:35  2017-03-07  \n",
       "3           94 2017-03-07 06:19:20  2017-03-07  \n",
       "4           94 2017-03-07 06:28:26  2017-03-07  "
      ]
     },
     "execution_count": 8,
     "metadata": {},
     "output_type": "execute_result"
    }
   ],
   "source": [
    "ds['created']=ds.timestamp.dt.date\n",
    "ds.head()"
   ]
  },
  {
   "cell_type": "code",
   "execution_count": 14,
   "metadata": {},
   "outputs": [
    {
     "data": {
      "text/plain": [
       "(10000, 27812)"
      ]
     },
     "execution_count": 14,
     "metadata": {},
     "output_type": "execute_result"
    },
    {
     "data": {
      "image/png": "[encoded data removed]",
      "text/plain": [
       "<matplotlib.figure.Figure at 0x10ce7c8d0>"
      ]
     },
     "metadata": {},
     "output_type": "display_data"
    }
   ],
   "source": [
    "import datetime\n",
    "ds2=ds[['id','created']]\n",
    "ds2=ds2[ds2.created > datetime.date(2016,12,31)]\n",
    "ds2=ds2[ds2.created < datetime.date(2017,4,1)]\n",
    "ts=ds2.groupby('created').size()\n",
    "fig=plt.figure(figsize=(20,4))\n",
    "ts.plot()\n",
    "fig.autofmt_xdate()\n",
    "plt.ylim([10000, ts.max()+500])"
   ]
  },
  {
   "cell_type": "code",
   "execution_count": null,
   "metadata": {
    "collapsed": true
   },
   "outputs": [],
   "source": [
    "nonconv_tweets = ds[(ds.in_reply_to_status_id.isnull()) & (ds.num_replies==1)]\n",
    "sample = nonconv_tweets.sample(2000).copy()\n",
    "dt=sample.timestamp.dt.tz_localize('UTC')\n",
    "sample['timestamp'] = dt.dt.tz_convert('America/Guayaquil')\n",
    "sample['hour'] = sample.timestamp.dt.hour\n",
    "sample['weekday'] = sample.timestamp.dt.weekday\n",
    "sns.kdeplot(sample.weekday, sample.hour, shade=True)"
   ]
  },
  {
   "cell_type": "code",
   "execution_count": null,
   "metadata": {
    "collapsed": true
   },
   "outputs": [],
   "source": [
    "import calendar"
   ]
  },
  {
   "cell_type": "code",
   "execution_count": null,
   "metadata": {
    "collapsed": true
   },
   "outputs": [],
   "source": [
    "plt.figure(figsize=(10,8))\n",
    "root_tweets = ds[(ds.in_reply_to_status_id.isnull()) & (ds.num_replies>1)]\n",
    "sample = root_tweets.sample(5000)\n",
    "dt=sample.timestamp.dt.tz_localize('UTC')\n",
    "sample['timestamp'] = dt.dt.tz_convert('America/Guayaquil')\n",
    "sample['hour'] = sample.timestamp.dt.hour\n",
    "sample['weekday'] = sample.timestamp.dt.weekday\n",
    "ax = sns.kdeplot(sample.weekday, sample.hour, shade=True)\n",
    "labels=list(calendar.day_name)\n",
    "labels.insert(0,'')\n",
    "labels.insert(0,'')\n",
    "labels.append('')\n",
    "labels.append('')\n",
    "ax.set_xticklabels(labels)\n",
    "plt.xticks(rotation=45)\n",
    "plt.xlabel('')\n",
    "plt.yticks(np.arange(min(sample.hour), max(sample.hour)+1, 2))\n",
    "plt.tight_layout()\n",
    "plt.savefig('results/temporal_distribution.eps', format='eps')"
   ]
  },
  {
   "cell_type": "code",
   "execution_count": null,
   "metadata": {
    "collapsed": true
   },
   "outputs": [],
   "source": [
    "conv = conversation_filter(ds)\n",
    "conv.shape"
   ]
  },
  {
   "cell_type": "code",
   "execution_count": null,
   "metadata": {
    "collapsed": true
   },
   "outputs": [],
   "source": [
    "span = conv.groupby('conversation_id').agg({'id': 'count', 'timestamp': ['min', 'max']})\n",
    "span.head()"
   ]
  },
  {
   "cell_type": "code",
   "execution_count": null,
   "metadata": {
    "collapsed": true
   },
   "outputs": [],
   "source": [
    "spands = span.reset_index()\n",
    "spands.columns=spands.columns.droplevel(0)\n",
    "spands.columns=['conversation_id', 'count', 'min', 'max']\n",
    "#spands['elapsed'] = spands.apply(lambda r: (r['max']-r['min']).days,1)\n",
    "spands['elapsed'] = spands['max'] - spands['min']\n",
    "spands['elapsed_days'] = spands['elapsed']/np.timedelta64(1, 'D')\n",
    "spands.sort_values('elapsed_days', ascending=False).head()"
   ]
  },
  {
   "cell_type": "code",
   "execution_count": null,
   "metadata": {
    "collapsed": true
   },
   "outputs": [],
   "source": [
    "y, bins = np.histogram(spands.elapsed_days, bins=100)\n",
    "x = bins[:-1]\n",
    "x.shape"
   ]
  },
  {
   "cell_type": "code",
   "execution_count": null,
   "metadata": {
    "collapsed": true
   },
   "outputs": [],
   "source": [
    "y_log = np.log(y)\n",
    "x_log = np.log(x)\n",
    "plt.scatter(x_log, y_log, marker='.')\n"
   ]
  },
  {
   "cell_type": "code",
   "execution_count": null,
   "metadata": {
    "collapsed": true
   },
   "outputs": [],
   "source": [
    "spands['elapsed_summary'] = np.round(spands.elapsed_days/10)*10\n",
    "span_group = spands.groupby('elapsed_summary').size()\n",
    "span_group = span_group.reset_index()\n",
    "span_group.columns =['from', 'conversations']\n",
    "total = span_group.conversations.sum()\n",
    "span_group['to'] = span_group['from'].shift(-1)\n",
    "span_group['perc'] = span_group.conversations / total\n",
    "span_group['cperc'] = span_group.conversations.cumsum() / total\n",
    "span_group = span_group.head()\n",
    "span_group = span_group[['from','to', 'conversations', 'perc','cperc']]\n",
    "span_group.to_csv('results/conv_span.csv',index=False)\n",
    "span_group\n",
    "#span_group = span_group[]\n",
    "#span_group.plot.box()"
   ]
  },
  {
   "cell_type": "code",
   "execution_count": null,
   "metadata": {
    "collapsed": true
   },
   "outputs": [],
   "source": [
    "spands.elapsed_days.plot.hist(bins=50)\n",
    "plt.yscale('log')\n",
    "plt.xlabel('days')\n",
    "plt.tight_layout()\n",
    "plt.savefig('results/conv_duration.eps', format='eps')"
   ]
  },
  {
   "cell_type": "markdown",
   "metadata": {},
   "source": [
    "long conversation sample:"
   ]
  },
  {
   "cell_type": "code",
   "execution_count": null,
   "metadata": {
    "collapsed": true,
    "scrolled": true
   },
   "outputs": [],
   "source": [
    "conv[conv.conversation_id==1293412597][['timestamp','screen_name','text']].values"
   ]
  },
  {
   "cell_type": "code",
   "execution_count": null,
   "metadata": {
    "collapsed": true
   },
   "outputs": [],
   "source": [
    "conv[conv.conversation_id==5157432533][['timestamp','screen_name','text']].values"
   ]
  },
  {
   "cell_type": "markdown",
   "metadata": {
    "collapsed": true
   },
   "source": [
    "short conversations sample:"
   ]
  },
  {
   "cell_type": "code",
   "execution_count": null,
   "metadata": {
    "collapsed": true
   },
   "outputs": [],
   "source": [
    "spands.sort_values('elapsed_days', ascending=True).head()"
   ]
  },
  {
   "cell_type": "code",
   "execution_count": null,
   "metadata": {
    "collapsed": true
   },
   "outputs": [],
   "source": [
    "conv[conv.conversation_id==823598851164672003][['timestamp','screen_name','text']].values"
   ]
  }
 ],
 "metadata": {
  "kernelspec": {
   "display_name": "Python 3",
   "language": "python",
   "name": "python3"
  },
  "language_info": {
   "codemirror_mode": {
    "name": "ipython",
    "version": 3
   },
   "file_extension": ".py",
   "mimetype": "text/x-python",
   "name": "python",
   "nbconvert_exporter": "python",
   "pygments_lexer": "ipython3",
   "version": "3.6.3"
  }
 },
 "nbformat": 4,
 "nbformat_minor": 2
}
