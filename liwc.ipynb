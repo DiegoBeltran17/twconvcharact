{
 "cells": [
  {
   "cell_type": "markdown",
   "metadata": {},
   "source": [
    "# LIWC analysis"
   ]
  },
  {
   "cell_type": "code",
   "execution_count": 4,
   "metadata": {},
   "outputs": [],
   "source": [
    "%matplotlib inline\n",
    "import matplotlib.pyplot as plt\n",
    "import seaborn as sns\n",
    "import pandas as pd\n",
    "import numpy as np\n",
    "import csv\n",
    "from source.conversation_helper import conversation_filter\n",
    "from source.conversation_helper import test_tweet_text_only\n",
    "from source.conversation_helper import build_tweet_text_only"
   ]
  },
  {
   "cell_type": "code",
   "execution_count": 5,
   "metadata": {},
   "outputs": [
    {
     "data": {
      "text/plain": [
       "(10805, 32)"
      ]
     },
     "execution_count": 5,
     "metadata": {},
     "output_type": "execute_result"
    }
   ],
   "source": [
    "ds = pd.read_csv('dataset/sampleconv.csv', \n",
    "                 dtype={\n",
    "                     'id': np.int64,\n",
    "                     'conversation_id': np.int64,\n",
    "                     'screen_name': str,\n",
    "                     'in_reply_to_status_id': object,\n",
    "                     'text': str,\n",
    "                     'num_child_replies': np.int32\n",
    "                       })\n",
    "ds.shape"
   ]
  },
  {
   "cell_type": "code",
   "execution_count": 6,
   "metadata": {},
   "outputs": [
    {
     "data": {
      "text/plain": [
       "id                           int64\n",
       "screen_name                 object\n",
       "name                        object\n",
       "statuses_count               int64\n",
       "followers_count              int64\n",
       "friends_count                int64\n",
       "favourites_count             int64\n",
       "time_zone                   object\n",
       "utc_offset                 float64\n",
       "geo_enabled                   bool\n",
       "location                    object\n",
       "description                 object\n",
       "latitude                   float64\n",
       "longitude                  float64\n",
       "place_type                  object\n",
       "place_name                  object\n",
       "place_full_name             object\n",
       "place_country               object\n",
       "retweet_count                int64\n",
       "favorite_count               int64\n",
       "retweeted                     bool\n",
       "possibly_sensitive            bool\n",
       "lang                        object\n",
       "in_reply_to_status_id       object\n",
       "in_reply_to_screen_name     object\n",
       "created_at                  object\n",
       "source                      object\n",
       "text                        object\n",
       "media_url                   object\n",
       "hashtags                    object\n",
       "conversation_id              int64\n",
       "num_child_replies            int32\n",
       "dtype: object"
      ]
     },
     "execution_count": 6,
     "metadata": {},
     "output_type": "execute_result"
    }
   ],
   "source": [
    "ds.dtypes"
   ]
  },
  {
   "cell_type": "code",
   "execution_count": 7,
   "metadata": {},
   "outputs": [
    {
     "data": {
      "text/plain": [
       "(2000, 32)"
      ]
     },
     "execution_count": 7,
     "metadata": {},
     "output_type": "execute_result"
    }
   ],
   "source": [
    "ds = ds[ds.in_reply_to_status_id.isnull()]\n",
    "ds.shape"
   ]
  },
  {
   "cell_type": "code",
   "execution_count": 8,
   "metadata": {},
   "outputs": [
    {
     "data": {
      "text/plain": [
       "(2000, 34)"
      ]
     },
     "execution_count": 8,
     "metadata": {},
     "output_type": "execute_result"
    }
   ],
   "source": [
    "ds = build_tweet_text_only(ds)\n",
    "ds.shape"
   ]
  },
  {
   "cell_type": "code",
   "execution_count": 9,
   "metadata": {},
   "outputs": [
    {
     "data": {
      "text/plain": [
       "<matplotlib.axes._subplots.AxesSubplot at 0x1178429e8>"
      ]
     },
     "execution_count": 9,
     "metadata": {},
     "output_type": "execute_result"
    },
    {
     "data": {
      "image/png": "[encoded data removed]",
      "text/plain": [
       "<matplotlib.figure.Figure at 0x1177d6518>"
      ]
     },
     "metadata": {},
     "output_type": "display_data"
    }
   ],
   "source": [
    "ds.text_only_num_tokens.plot.hist(bins=20)"
   ]
  },
  {
   "cell_type": "code",
   "execution_count": 10,
   "metadata": {},
   "outputs": [
    {
     "data": {
      "text/plain": [
       "(1864, 2)"
      ]
     },
     "execution_count": 10,
     "metadata": {},
     "output_type": "execute_result"
    }
   ],
   "source": [
    "liwc=ds[ds.text_only_num_tokens>0][['id', 'text_only']]\n",
    "liwc.shape"
   ]
  },
  {
   "cell_type": "code",
   "execution_count": 11,
   "metadata": {},
   "outputs": [
    {
     "data": {
      "text/html": [
       "<div>\n",
       "<style>\n",
       "    .dataframe thead tr:only-child th {\n",
       "        text-align: right;\n",
       "    }\n",
       "\n",
       "    .dataframe thead th {\n",
       "        text-align: left;\n",
       "    }\n",
       "\n",
       "    .dataframe tbody tr th {\n",
       "        vertical-align: top;\n",
       "    }\n",
       "</style>\n",
       "<table border=\"1\" class=\"dataframe\">\n",
       "  <thead>\n",
       "    <tr style=\"text-align: right;\">\n",
       "      <th></th>\n",
       "      <th>id</th>\n",
       "      <th>text_only</th>\n",
       "    </tr>\n",
       "  </thead>\n",
       "  <tbody>\n",
       "    <tr>\n",
       "      <th>64</th>\n",
       "      <td>833886236037242880</td>\n",
       "      <td>tambin conoc una persona pens que llegara ser ...</td>\n",
       "    </tr>\n",
       "    <tr>\n",
       "      <th>3204</th>\n",
       "      <td>768174348482048000</td>\n",
       "      <td>quiero que acabe este semestre</td>\n",
       "    </tr>\n",
       "    <tr>\n",
       "      <th>8478</th>\n",
       "      <td>829147845701705728</td>\n",
       "      <td>Entregan patrulleros inteligentes para reforza...</td>\n",
       "    </tr>\n",
       "    <tr>\n",
       "      <th>2284</th>\n",
       "      <td>762489473590439936</td>\n",
       "      <td>Otra vez este pendejo</td>\n",
       "    </tr>\n",
       "    <tr>\n",
       "      <th>725</th>\n",
       "      <td>773323054466338816</td>\n",
       "      <td>estaban muy ocupados que dieron alarma pronta ...</td>\n",
       "    </tr>\n",
       "    <tr>\n",
       "      <th>271</th>\n",
       "      <td>768185128443056128</td>\n",
       "      <td>proteges ambiente aseguras futuro tus hijos</td>\n",
       "    </tr>\n",
       "    <tr>\n",
       "      <th>357</th>\n",
       "      <td>883169406645395458</td>\n",
       "      <td>Con Alfredo Arias mando Emelec para NINGN lado...</td>\n",
       "    </tr>\n",
       "    <tr>\n",
       "      <th>497</th>\n",
       "      <td>883141566147080192</td>\n",
       "      <td>Viva ROCK AmericaGuayaquil</td>\n",
       "    </tr>\n",
       "    <tr>\n",
       "      <th>3343</th>\n",
       "      <td>769936850081423360</td>\n",
       "      <td>Miren esto Conexin celulares Latinoamrica sus ...</td>\n",
       "    </tr>\n",
       "    <tr>\n",
       "      <th>9603</th>\n",
       "      <td>836433765614370817</td>\n",
       "      <td>janzo janzo jamonada</td>\n",
       "    </tr>\n",
       "  </tbody>\n",
       "</table>\n",
       "</div>"
      ],
      "text/plain": [
       "                      id                                          text_only\n",
       "64    833886236037242880  tambin conoc una persona pens que llegara ser ...\n",
       "3204  768174348482048000                     quiero que acabe este semestre\n",
       "8478  829147845701705728  Entregan patrulleros inteligentes para reforza...\n",
       "2284  762489473590439936                              Otra vez este pendejo\n",
       "725   773323054466338816  estaban muy ocupados que dieron alarma pronta ...\n",
       "271   768185128443056128        proteges ambiente aseguras futuro tus hijos\n",
       "357   883169406645395458  Con Alfredo Arias mando Emelec para NINGN lado...\n",
       "497   883141566147080192                         Viva ROCK AmericaGuayaquil\n",
       "3343  769936850081423360  Miren esto Conexin celulares Latinoamrica sus ...\n",
       "9603  836433765614370817                               janzo janzo jamonada"
      ]
     },
     "execution_count": 11,
     "metadata": {},
     "output_type": "execute_result"
    }
   ],
   "source": [
    "liwc.sample(10)"
   ]
  },
  {
   "cell_type": "code",
   "execution_count": 23,
   "metadata": {
    "collapsed": true
   },
   "outputs": [],
   "source": [
    "liwc.to_csv('dataset/sampleconvliwc.csv', index=False, quoting=csv.QUOTE_NONNUMERIC)"
   ]
  }
 ],
 "metadata": {
  "kernelspec": {
   "display_name": "Python 3",
   "language": "python",
   "name": "python3"
  },
  "language_info": {
   "codemirror_mode": {
    "name": "ipython",
    "version": 3
   },
   "file_extension": ".py",
   "mimetype": "text/x-python",
   "name": "python",
   "nbconvert_exporter": "python",
   "pygments_lexer": "ipython3",
   "version": "3.6.1"
  }
 },
 "nbformat": 4,
 "nbformat_minor": 2
}
