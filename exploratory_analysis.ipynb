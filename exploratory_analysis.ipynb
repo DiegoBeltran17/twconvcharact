{
 "cells": [
  {
   "cell_type": "markdown",
   "metadata": {
    "slideshow": {
     "slide_type": "slide"
    }
   },
   "source": [
    "# Exploratory analysis\n",
    "\n",
    "- tweets collected for ecuadorian users\n",
    "- the tweet's field 'reply_to_status_id' link to the parent tweet in a conversation"
   ]
  },
  {
   "cell_type": "code",
   "execution_count": 2,
   "metadata": {
    "slideshow": {
     "slide_type": "skip"
    }
   },
   "outputs": [],
   "source": [
    "\n",
    "%matplotlib inline\n",
    "import matplotlib.pyplot as plt\n",
    "import pandas as pd\n",
    "import numpy as np\n",
    "import seaborn as sns\n",
    "import matplotlib\n"
   ]
  },
  {
   "cell_type": "code",
   "execution_count": 4,
   "metadata": {
    "slideshow": {
     "slide_type": "skip"
    }
   },
   "outputs": [],
   "source": [
    "# download the dataset from using tweets ids or ask authors for the full dataset\n",
    "ds = pd.read_csv('dataset/twconvcharact.csv',\n",
    "                 usecols=['tweet_id','screen_name', 'in_reply_to_status_id', 'conversation_id'],\n",
    "                dtype={'in_reply_to_status_id':str}\n",
    "                )"
   ]
  },
  {
   "cell_type": "code",
   "execution_count": 56,
   "metadata": {
    "slideshow": {
     "slide_type": "skip"
    }
   },
   "outputs": [
    {
     "name": "stdout",
     "output_type": "stream",
     "text": [
      "1,402,580 tweets\n",
      "746,861 conversations\n"
     ]
    }
   ],
   "source": [
    "num_tweets = ds.shape[0]\n",
    "num_conversations = ds.conversation_id.nunique()\n",
    "\n",
    "print(f'{num_tweets:,} tweets')\n",
    "print(f'{num_conversations:,} conversations')"
   ]
  },
  {
   "cell_type": "markdown",
   "metadata": {
    "slideshow": {
     "slide_type": "slide"
    }
   },
   "source": [
    "## Conversations distribution \n",
    "\n",
    "The conversations are grouped by number of replies to establish the distribution by number of tweets"
   ]
  },
  {
   "cell_type": "code",
   "execution_count": 57,
   "metadata": {},
   "outputs": [
    {
     "data": {
      "text/plain": [
       "(746861, 2)"
      ]
     },
     "execution_count": 57,
     "metadata": {},
     "output_type": "execute_result"
    }
   ],
   "source": [
    "convdist=ds.groupby('conversation_id').size().reset_index()\n",
    "convdist.columns=['conversation_id','num_replies']\n",
    "convdist.shape"
   ]
  },
  {
   "cell_type": "markdown",
   "metadata": {},
   "source": [
    "show the percentage of **conversations** based on the number of **tweets**"
   ]
  },
  {
   "cell_type": "code",
   "execution_count": 49,
   "metadata": {
    "slideshow": {
     "slide_type": "skip"
    }
   },
   "outputs": [
    {
     "data": {
      "text/html": [
       "<div>\n",
       "<style scoped>\n",
       "    .dataframe tbody tr th:only-of-type {\n",
       "        vertical-align: middle;\n",
       "    }\n",
       "\n",
       "    .dataframe tbody tr th {\n",
       "        vertical-align: top;\n",
       "    }\n",
       "\n",
       "    .dataframe thead th {\n",
       "        text-align: right;\n",
       "    }\n",
       "</style>\n",
       "<table border=\"1\" class=\"dataframe\">\n",
       "  <thead>\n",
       "    <tr style=\"text-align: right;\">\n",
       "      <th></th>\n",
       "      <th>tweets</th>\n",
       "      <th>conversations</th>\n",
       "      <th>perc</th>\n",
       "    </tr>\n",
       "  </thead>\n",
       "  <tbody>\n",
       "    <tr>\n",
       "      <th>0</th>\n",
       "      <td>1</td>\n",
       "      <td>622130</td>\n",
       "      <td>0.832993</td>\n",
       "    </tr>\n",
       "    <tr>\n",
       "      <th>1</th>\n",
       "      <td>2</td>\n",
       "      <td>67578</td>\n",
       "      <td>0.090483</td>\n",
       "    </tr>\n",
       "    <tr>\n",
       "      <th>2</th>\n",
       "      <td>3</td>\n",
       "      <td>21590</td>\n",
       "      <td>0.028908</td>\n",
       "    </tr>\n",
       "    <tr>\n",
       "      <th>3</th>\n",
       "      <td>4</td>\n",
       "      <td>10494</td>\n",
       "      <td>0.014051</td>\n",
       "    </tr>\n",
       "    <tr>\n",
       "      <th>4</th>\n",
       "      <td>5</td>\n",
       "      <td>6088</td>\n",
       "      <td>0.008151</td>\n",
       "    </tr>\n",
       "  </tbody>\n",
       "</table>\n",
       "</div>"
      ],
      "text/plain": [
       "   tweets  conversations      perc\n",
       "0       1         622130  0.832993\n",
       "1       2          67578  0.090483\n",
       "2       3          21590  0.028908\n",
       "3       4          10494  0.014051\n",
       "4       5           6088  0.008151"
      ]
     },
     "execution_count": 49,
     "metadata": {},
     "output_type": "execute_result"
    }
   ],
   "source": [
    "def show_conversation_distribution_table(convdist):\n",
    "    stat=convdist.groupby('num_replies').size()\n",
    "    stat=stat.reset_index()\n",
    "    stat.columns=['tweets','conversations']\n",
    "    stat.tweets = stat.tweets.astype(int)\n",
    "    total = stat.conversations.sum()\n",
    "    tconv = stat[stat.tweets>1].conversations.sum()\n",
    "    stat['perc'] = stat.conversations / total\n",
    "    #stat['pconv'] = stat.conversations / tconv\n",
    "    #stat.loc[0,'pconv'] = 0\n",
    "    stat.sort_values('tweets', ascending=True, inplace=True)\n",
    "    stat.reset_index(inplace=True, drop=True)\n",
    "    stat= stat.head()\n",
    "    return stat\n",
    "\n",
    "show_conversation_distribution_table(convdist)"
   ]
  },
  {
   "cell_type": "code",
   "execution_count": 24,
   "metadata": {
    "slideshow": {
     "slide_type": "slide"
    }
   },
   "outputs": [
    {
     "data": {
      "text/html": [
       "<div>\n",
       "<style>\n",
       "    .dataframe thead tr:only-child th {\n",
       "        text-align: right;\n",
       "    }\n",
       "\n",
       "    .dataframe thead th {\n",
       "        text-align: left;\n",
       "    }\n",
       "\n",
       "    .dataframe tbody tr th {\n",
       "        vertical-align: top;\n",
       "    }\n",
       "</style>\n",
       "<table border=\"1\" class=\"dataframe\">\n",
       "  <thead>\n",
       "    <tr style=\"text-align: right;\">\n",
       "      <th></th>\n",
       "      <th>tweets</th>\n",
       "      <th>conversations</th>\n",
       "      <th>perc</th>\n",
       "      <th>pconv</th>\n",
       "    </tr>\n",
       "  </thead>\n",
       "  <tbody>\n",
       "    <tr>\n",
       "      <th>0</th>\n",
       "      <td>1</td>\n",
       "      <td>1747374</td>\n",
       "      <td>0.643253</td>\n",
       "      <td>0.000000</td>\n",
       "    </tr>\n",
       "    <tr>\n",
       "      <th>1</th>\n",
       "      <td>2</td>\n",
       "      <td>401274</td>\n",
       "      <td>0.147719</td>\n",
       "      <td>0.414073</td>\n",
       "    </tr>\n",
       "    <tr>\n",
       "      <th>2</th>\n",
       "      <td>3</td>\n",
       "      <td>144078</td>\n",
       "      <td>0.053039</td>\n",
       "      <td>0.148673</td>\n",
       "    </tr>\n",
       "    <tr>\n",
       "      <th>3</th>\n",
       "      <td>4</td>\n",
       "      <td>86512</td>\n",
       "      <td>0.031847</td>\n",
       "      <td>0.089271</td>\n",
       "    </tr>\n",
       "    <tr>\n",
       "      <th>4</th>\n",
       "      <td>5</td>\n",
       "      <td>61935</td>\n",
       "      <td>0.022800</td>\n",
       "      <td>0.063910</td>\n",
       "    </tr>\n",
       "  </tbody>\n",
       "</table>\n",
       "</div>"
      ],
      "text/plain": [
       "   tweets  conversations      perc     pconv\n",
       "0       1        1747374  0.643253  0.000000\n",
       "1       2         401274  0.147719  0.414073\n",
       "2       3         144078  0.053039  0.148673\n",
       "3       4          86512  0.031847  0.089271\n",
       "4       5          61935  0.022800  0.063910"
      ]
     },
     "execution_count": 24,
     "metadata": {},
     "output_type": "execute_result"
    }
   ],
   "source": [
    "# original version of the dataset\n",
    "#show_conversation_distribution_table()"
   ]
  },
  {
   "cell_type": "code",
   "execution_count": 26,
   "metadata": {
    "slideshow": {
     "slide_type": "skip"
    }
   },
   "outputs": [
    {
     "data": {
      "text/plain": [
       "(746862, 4)"
      ]
     },
     "execution_count": 26,
     "metadata": {},
     "output_type": "execute_result"
    }
   ],
   "source": [
    "conv = ds[ds.in_reply_to_status_id.isnull()]\n",
    "conv.shape"
   ]
  },
  {
   "cell_type": "code",
   "execution_count": 35,
   "metadata": {
    "slideshow": {
     "slide_type": "skip"
    }
   },
   "outputs": [],
   "source": [
    "def show_cdf_plot():\n",
    "    fig = plt.figure(figsize=(12,5))\n",
    "    convdist.num_replies.plot.hist(bins=100)\n",
    "    plt.yscale('log')\n",
    "    plt.xlabel('number of tweets')\n",
    "    plt.ylabel('conversations')\n",
    "    plt.legend().set_visible(False)\n",
    "    plt.tight_layout()"
   ]
  },
  {
   "cell_type": "code",
   "execution_count": 36,
   "metadata": {
    "slideshow": {
     "slide_type": "slide"
    }
   },
   "outputs": [
    {
     "data": {
      "image/png": "[encoded data removed]",
      "text/plain": [
       "<Figure size 864x360 with 1 Axes>"
      ]
     },
     "metadata": {},
     "output_type": "display_data"
    }
   ],
   "source": [
    "show_cdf_plot()"
   ]
  },
  {
   "cell_type": "code",
   "execution_count": 31,
   "metadata": {
    "slideshow": {
     "slide_type": "skip"
    }
   },
   "outputs": [],
   "source": [
    "def plot_log_distribution():\n",
    "    y, bins = np.histogram(convdist.num_replies, bins=1000)\n",
    "    x=bins[:-1]\n",
    "    ix = y!=0\n",
    "    y_log = np.log(y[ix])\n",
    "    x_log = np.log(x[ix])\n",
    "    plt.scatter(x_log, y_log, marker='.')\n",
    "    plt.xlabel('log conversations length')\n",
    "    plt.ylabel('log frequency')\n",
    "    plt.savefig('results/conversations_distribution.eps', format='eps',bbox_inches='tight')"
   ]
  },
  {
   "cell_type": "code",
   "execution_count": 32,
   "metadata": {
    "scrolled": false,
    "slideshow": {
     "slide_type": "slide"
    }
   },
   "outputs": [
    {
     "data": {
      "image/png": "[encoded data removed]",
      "text/plain": [
       "<Figure size 432x288 with 1 Axes>"
      ]
     },
     "metadata": {},
     "output_type": "display_data"
    }
   ],
   "source": [
    "plot_log_distribution()"
   ]
  },
  {
   "cell_type": "markdown",
   "metadata": {
    "slideshow": {
     "slide_type": "slide"
    }
   },
   "source": [
    "## conversation definition\n",
    "- conversation should have at least one reply from another user"
   ]
  },
  {
   "cell_type": "code",
   "execution_count": 33,
   "metadata": {},
   "outputs": [
    {
     "data": {
      "text/plain": [
       "(1402580, 5)"
      ]
     },
     "execution_count": 33,
     "metadata": {},
     "output_type": "execute_result"
    }
   ],
   "source": [
    "ds2 = ds.merge(convdist, on='conversation_id')\n",
    "ds2.shape"
   ]
  },
  {
   "cell_type": "code",
   "execution_count": 43,
   "metadata": {},
   "outputs": [],
   "source": [
    "def conversation_filter(ds):\n",
    "    print('extract conversations with 2 or more tweets')\n",
    "    conv = ds[(ds.num_replies>1)]\n",
    "    print(f'num conversatins with 2 or more tweets: {conv.shape[0]}')\n",
    "    gconv = conv.groupby('conversation_id').agg({'screen_name': 'nunique', 'tweet_id': 'count'})\n",
    "    gconv = gconv.reset_index()\n",
    "    gconv.rename(columns={'screen_name': 'num_users', 'tweet_id': 'num_tweets'}, inplace=True)\n",
    "    conv = conv.merge(gconv, on='conversation_id')\n",
    "    conv=conv[(conv.num_users>1)]\n",
    "    print(f'num conversatins with 2 or more users: {conv.shape[0]}')\n",
    "    return conv"
   ]
  },
  {
   "cell_type": "code",
   "execution_count": 51,
   "metadata": {
    "slideshow": {
     "slide_type": "skip"
    }
   },
   "outputs": [
    {
     "name": "stdout",
     "output_type": "stream",
     "text": [
      "extract conversations with 2 or more tweets\n",
      "num conversatins with 2 or more tweets: 780450\n",
      "num conversatins with 2 or more users: 763484\n"
     ]
    },
    {
     "data": {
      "text/plain": [
       "(118846, 2)"
      ]
     },
     "execution_count": 51,
     "metadata": {},
     "output_type": "execute_result"
    }
   ],
   "source": [
    "conv_tweets = conversation_filter(ds2)\n",
    "convdist=conv_tweets.groupby('conversation_id').size().reset_index()\n",
    "convdist.columns=['conversation_id','num_replies']\n",
    "convdist.shape"
   ]
  },
  {
   "cell_type": "code",
   "execution_count": 52,
   "metadata": {},
   "outputs": [
    {
     "data": {
      "text/html": [
       "<div>\n",
       "<style scoped>\n",
       "    .dataframe tbody tr th:only-of-type {\n",
       "        vertical-align: middle;\n",
       "    }\n",
       "\n",
       "    .dataframe tbody tr th {\n",
       "        vertical-align: top;\n",
       "    }\n",
       "\n",
       "    .dataframe thead th {\n",
       "        text-align: right;\n",
       "    }\n",
       "</style>\n",
       "<table border=\"1\" class=\"dataframe\">\n",
       "  <thead>\n",
       "    <tr style=\"text-align: right;\">\n",
       "      <th></th>\n",
       "      <th>tweets</th>\n",
       "      <th>conversations</th>\n",
       "      <th>perc</th>\n",
       "    </tr>\n",
       "  </thead>\n",
       "  <tbody>\n",
       "    <tr>\n",
       "      <th>0</th>\n",
       "      <td>2</td>\n",
       "      <td>62897</td>\n",
       "      <td>0.529231</td>\n",
       "    </tr>\n",
       "    <tr>\n",
       "      <th>1</th>\n",
       "      <td>3</td>\n",
       "      <td>21131</td>\n",
       "      <td>0.177802</td>\n",
       "    </tr>\n",
       "    <tr>\n",
       "      <th>2</th>\n",
       "      <td>4</td>\n",
       "      <td>10313</td>\n",
       "      <td>0.086776</td>\n",
       "    </tr>\n",
       "    <tr>\n",
       "      <th>3</th>\n",
       "      <td>5</td>\n",
       "      <td>5874</td>\n",
       "      <td>0.049425</td>\n",
       "    </tr>\n",
       "    <tr>\n",
       "      <th>4</th>\n",
       "      <td>6</td>\n",
       "      <td>3606</td>\n",
       "      <td>0.030342</td>\n",
       "    </tr>\n",
       "  </tbody>\n",
       "</table>\n",
       "</div>"
      ],
      "text/plain": [
       "   tweets  conversations      perc\n",
       "0       2          62897  0.529231\n",
       "1       3          21131  0.177802\n",
       "2       4          10313  0.086776\n",
       "3       5           5874  0.049425\n",
       "4       6           3606  0.030342"
      ]
     },
     "execution_count": 52,
     "metadata": {},
     "output_type": "execute_result"
    }
   ],
   "source": [
    "show_conversation_distribution_table(convdist)"
   ]
  },
  {
   "cell_type": "code",
   "execution_count": 15,
   "metadata": {
    "scrolled": true,
    "slideshow": {
     "slide_type": "-"
    }
   },
   "outputs": [
    {
     "data": {
      "text/html": [
       "<div>\n",
       "<style>\n",
       "    .dataframe thead tr:only-child th {\n",
       "        text-align: right;\n",
       "    }\n",
       "\n",
       "    .dataframe thead th {\n",
       "        text-align: left;\n",
       "    }\n",
       "\n",
       "    .dataframe tbody tr th {\n",
       "        vertical-align: top;\n",
       "    }\n",
       "</style>\n",
       "<table border=\"1\" class=\"dataframe\">\n",
       "  <thead>\n",
       "    <tr style=\"text-align: right;\">\n",
       "      <th></th>\n",
       "      <th>tweets</th>\n",
       "      <th>conversations</th>\n",
       "      <th>perc</th>\n",
       "      <th>pconv</th>\n",
       "    </tr>\n",
       "  </thead>\n",
       "  <tbody>\n",
       "    <tr>\n",
       "      <th>0</th>\n",
       "      <td>2</td>\n",
       "      <td>367870</td>\n",
       "      <td>0.402316</td>\n",
       "      <td></td>\n",
       "    </tr>\n",
       "    <tr>\n",
       "      <th>1</th>\n",
       "      <td>3</td>\n",
       "      <td>139107</td>\n",
       "      <td>0.152132</td>\n",
       "      <td>0.152132</td>\n",
       "    </tr>\n",
       "    <tr>\n",
       "      <th>2</th>\n",
       "      <td>4</td>\n",
       "      <td>84224</td>\n",
       "      <td>0.092110</td>\n",
       "      <td>0.0921104</td>\n",
       "    </tr>\n",
       "    <tr>\n",
       "      <th>3</th>\n",
       "      <td>5</td>\n",
       "      <td>58395</td>\n",
       "      <td>0.063863</td>\n",
       "      <td>0.0638629</td>\n",
       "    </tr>\n",
       "    <tr>\n",
       "      <th>4</th>\n",
       "      <td>6</td>\n",
       "      <td>39258</td>\n",
       "      <td>0.042934</td>\n",
       "      <td>0.042934</td>\n",
       "    </tr>\n",
       "  </tbody>\n",
       "</table>\n",
       "</div>"
      ],
      "text/plain": [
       "   tweets  conversations      perc      pconv\n",
       "0       2         367870  0.402316           \n",
       "1       3         139107  0.152132   0.152132\n",
       "2       4          84224  0.092110  0.0921104\n",
       "3       5          58395  0.063863  0.0638629\n",
       "4       6          39258  0.042934   0.042934"
      ]
     },
     "execution_count": 15,
     "metadata": {},
     "output_type": "execute_result"
    }
   ],
   "source": [
    "# original version of the dataset\n",
    "#show_conversation_distribution_table()"
   ]
  }
 ],
 "metadata": {
  "celltoolbar": "Slideshow",
  "kernelspec": {
   "display_name": "Python 3",
   "language": "python",
   "name": "python3"
  },
  "language_info": {
   "codemirror_mode": {
    "name": "ipython",
    "version": 3
   },
   "file_extension": ".py",
   "mimetype": "text/x-python",
   "name": "python",
   "nbconvert_exporter": "python",
   "pygments_lexer": "ipython3",
   "version": "3.7.3"
  }
 },
 "nbformat": 4,
 "nbformat_minor": 2
}
