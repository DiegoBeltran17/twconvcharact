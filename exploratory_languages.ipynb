{
 "cells": [
  {
   "cell_type": "markdown",
   "metadata": {
    "slideshow": {
     "slide_type": "slide"
    }
   },
   "source": [
    "# Languages used in conversations"
   ]
  },
  {
   "cell_type": "code",
   "execution_count": 1,
   "metadata": {
    "collapsed": true,
    "slideshow": {
     "slide_type": "skip"
    }
   },
   "outputs": [],
   "source": [
    "%matplotlib inline\n",
    "import matplotlib.pyplot as plt\n",
    "import seaborn as sns\n",
    "import pandas as pd\n",
    "import numpy as np\n",
    "import csv\n",
    "from source.conversation_helper import conversation_filter"
   ]
  },
  {
   "cell_type": "code",
   "execution_count": 4,
   "metadata": {
    "slideshow": {
     "slide_type": "skip"
    }
   },
   "outputs": [],
   "source": [
    "ds = pd.read_csv('/Users/john/data/twitter/tweets_ec_nd_conv.csv', \n",
    "                 dtype={\n",
    "                     'id': np.int64,\n",
    "                     'conversation_id': np.int64,\n",
    "                     'screen_name': str,\n",
    "                     'in_reply_to_status_id': object,\n",
    "                     'text': str,\n",
    "                     'num_child_replies': np.int32\n",
    "                       })\n",
    "conv = conversation_filter(ds)"
   ]
  },
  {
   "cell_type": "code",
   "execution_count": 5,
   "metadata": {
    "collapsed": true,
    "slideshow": {
     "slide_type": "skip"
    }
   },
   "outputs": [],
   "source": [
    "\n",
    "def show_stats():\n",
    "    num_tweets = ds.shape[0]\n",
    "    num_tweets_conv = conv.conversation_id.nunique()\n",
    "    num_langs = conv.lang.nunique()\n",
    "    stats = pd.DataFrame({\n",
    "        '': [num_tweets, num_tweets_conv, num_langs]},\n",
    "        index= ['tweets', 'conversations', 'languages'])\n",
    "    return stats"
   ]
  },
  {
   "cell_type": "code",
   "execution_count": 6,
   "metadata": {
    "slideshow": {
     "slide_type": "slide"
    }
   },
   "outputs": [
    {
     "data": {
      "text/html": [
       "<div>\n",
       "<style>\n",
       "    .dataframe thead tr:only-child th {\n",
       "        text-align: right;\n",
       "    }\n",
       "\n",
       "    .dataframe thead th {\n",
       "        text-align: left;\n",
       "    }\n",
       "\n",
       "    .dataframe tbody tr th {\n",
       "        vertical-align: top;\n",
       "    }\n",
       "</style>\n",
       "<table border=\"1\" class=\"dataframe\">\n",
       "  <thead>\n",
       "    <tr style=\"text-align: right;\">\n",
       "      <th></th>\n",
       "      <th></th>\n",
       "    </tr>\n",
       "  </thead>\n",
       "  <tbody>\n",
       "    <tr>\n",
       "      <th>tweets</th>\n",
       "      <td>2716464</td>\n",
       "    </tr>\n",
       "    <tr>\n",
       "      <th>conversations</th>\n",
       "      <td>286876</td>\n",
       "    </tr>\n",
       "    <tr>\n",
       "      <th>languages</th>\n",
       "      <td>44</td>\n",
       "    </tr>\n",
       "  </tbody>\n",
       "</table>\n",
       "</div>"
      ],
      "text/plain": [
       "                      \n",
       "tweets         2716464\n",
       "conversations   286876\n",
       "languages           44"
      ]
     },
     "execution_count": 6,
     "metadata": {},
     "output_type": "execute_result"
    }
   ],
   "source": [
    "show_stats()"
   ]
  },
  {
   "cell_type": "code",
   "execution_count": 7,
   "metadata": {
    "scrolled": false,
    "slideshow": {
     "slide_type": "skip"
    }
   },
   "outputs": [],
   "source": [
    "def show_lang_stats():\n",
    "    langs=conv.groupby('lang').size()\n",
    "    langs=langs.reset_index(name='tweets')\n",
    "    langs=langs.sort_values('tweets', ascending=False)\n",
    "    total = langs.tweets.sum()\n",
    "    langs['percentage'] = langs.tweets / total\n",
    "    langs['pcum'] = langs.tweets.cumsum() / total\n",
    "    return langs.head()"
   ]
  },
  {
   "cell_type": "code",
   "execution_count": 8,
   "metadata": {
    "slideshow": {
     "slide_type": "slide"
    }
   },
   "outputs": [
    {
     "data": {
      "text/html": [
       "<div>\n",
       "<style>\n",
       "    .dataframe thead tr:only-child th {\n",
       "        text-align: right;\n",
       "    }\n",
       "\n",
       "    .dataframe thead th {\n",
       "        text-align: left;\n",
       "    }\n",
       "\n",
       "    .dataframe tbody tr th {\n",
       "        vertical-align: top;\n",
       "    }\n",
       "</style>\n",
       "<table border=\"1\" class=\"dataframe\">\n",
       "  <thead>\n",
       "    <tr style=\"text-align: right;\">\n",
       "      <th></th>\n",
       "      <th>lang</th>\n",
       "      <th>tweets</th>\n",
       "      <th>percentage</th>\n",
       "      <th>pcum</th>\n",
       "    </tr>\n",
       "  </thead>\n",
       "  <tbody>\n",
       "    <tr>\n",
       "      <th>8</th>\n",
       "      <td>es</td>\n",
       "      <td>723733</td>\n",
       "      <td>0.791500</td>\n",
       "      <td>0.791500</td>\n",
       "    </tr>\n",
       "    <tr>\n",
       "      <th>40</th>\n",
       "      <td>und</td>\n",
       "      <td>66231</td>\n",
       "      <td>0.072433</td>\n",
       "      <td>0.863933</td>\n",
       "    </tr>\n",
       "    <tr>\n",
       "      <th>7</th>\n",
       "      <td>en</td>\n",
       "      <td>59329</td>\n",
       "      <td>0.064884</td>\n",
       "      <td>0.928817</td>\n",
       "    </tr>\n",
       "    <tr>\n",
       "      <th>20</th>\n",
       "      <td>ja</td>\n",
       "      <td>33441</td>\n",
       "      <td>0.036572</td>\n",
       "      <td>0.965390</td>\n",
       "    </tr>\n",
       "    <tr>\n",
       "      <th>29</th>\n",
       "      <td>pt</td>\n",
       "      <td>10129</td>\n",
       "      <td>0.011077</td>\n",
       "      <td>0.976467</td>\n",
       "    </tr>\n",
       "  </tbody>\n",
       "</table>\n",
       "</div>"
      ],
      "text/plain": [
       "   lang  tweets  percentage      pcum\n",
       "8    es  723733    0.791500  0.791500\n",
       "40  und   66231    0.072433  0.863933\n",
       "7    en   59329    0.064884  0.928817\n",
       "20   ja   33441    0.036572  0.965390\n",
       "29   pt   10129    0.011077  0.976467"
      ]
     },
     "execution_count": 8,
     "metadata": {},
     "output_type": "execute_result"
    }
   ],
   "source": [
    "show_lang_stats()"
   ]
  },
  {
   "cell_type": "markdown",
   "metadata": {
    "slideshow": {
     "slide_type": "-"
    }
   },
   "source": [
    "there is a code UND, according to ISO is undetermined, let look examples"
   ]
  },
  {
   "cell_type": "code",
   "execution_count": 12,
   "metadata": {
    "slideshow": {
     "slide_type": "slide"
    }
   },
   "outputs": [
    {
     "data": {
      "text/plain": [
       "array([[ '@terrykakiuchi7 @conde_leoconde @PolishRoyalGoat @FJ_Bering @mariamedinacas2 @fukayaqui @awlasky @salseritomc @Carpey66Fran 👄💋'],\n",
       "       ['@nmosqueraa @theendlessjoke https://t.co/4MzUtFhqfp'],\n",
       "       ['@velozita8 ssh'],\n",
       "       ['@SoyAlejMusic siii'],\n",
       "       ['#SiTeDigoLaVerdadALaCarcel ! https://t.co/6tb6QVR2sP'],\n",
       "       ['@jenniehidalgo Ñi'],\n",
       "       ['@myrabatchelder @fumiplagg'],\n",
       "       ['@AndrexWorld Gn ^^'],\n",
       "       ['@gabrielaolanota https://t.co/Z9t1DlOJps'],\n",
       "       ['@WeedmapsEs @Cannabis24h']], dtype=object)"
      ]
     },
     "execution_count": 12,
     "metadata": {},
     "output_type": "execute_result"
    }
   ],
   "source": [
    "conv[conv.lang=='und'][['text']].sample(10).values"
   ]
  },
  {
   "cell_type": "code",
   "execution_count": 13,
   "metadata": {
    "slideshow": {
     "slide_type": "skip"
    }
   },
   "outputs": [
    {
     "data": {
      "text/html": [
       "<div>\n",
       "<style>\n",
       "    .dataframe thead tr:only-child th {\n",
       "        text-align: right;\n",
       "    }\n",
       "\n",
       "    .dataframe thead th {\n",
       "        text-align: left;\n",
       "    }\n",
       "\n",
       "    .dataframe tbody tr th {\n",
       "        vertical-align: top;\n",
       "    }\n",
       "</style>\n",
       "<table border=\"1\" class=\"dataframe\">\n",
       "  <thead>\n",
       "    <tr style=\"text-align: right;\">\n",
       "      <th></th>\n",
       "      <th>id</th>\n",
       "      <th>screen_name</th>\n",
       "      <th>name</th>\n",
       "      <th>statuses_count</th>\n",
       "      <th>followers_count</th>\n",
       "      <th>friends_count</th>\n",
       "      <th>favourites_count</th>\n",
       "      <th>time_zone</th>\n",
       "      <th>utc_offset</th>\n",
       "      <th>geo_enabled</th>\n",
       "      <th>...</th>\n",
       "      <th>in_reply_to_screen_name</th>\n",
       "      <th>created_at</th>\n",
       "      <th>source</th>\n",
       "      <th>text</th>\n",
       "      <th>media_url</th>\n",
       "      <th>hashtags</th>\n",
       "      <th>conversation_id</th>\n",
       "      <th>num_replies</th>\n",
       "      <th>num_users</th>\n",
       "      <th>num_tweets</th>\n",
       "    </tr>\n",
       "  </thead>\n",
       "  <tbody>\n",
       "    <tr>\n",
       "      <th>245</th>\n",
       "      <td>838976100160188416</td>\n",
       "      <td>danieelaac</td>\n",
       "      <td>Daniela Abarca</td>\n",
       "      <td>33670</td>\n",
       "      <td>978</td>\n",
       "      <td>89</td>\n",
       "      <td>2750</td>\n",
       "      <td>Central Time (US &amp; Canada)</td>\n",
       "      <td>-21600.0</td>\n",
       "      <td>True</td>\n",
       "      <td>...</td>\n",
       "      <td>carlacortesb</td>\n",
       "      <td>Tue Mar 07 04:54:24 +0000 2017</td>\n",
       "      <td>&lt;a href=\"http://twitter.com/download/iphone\" r...</td>\n",
       "      <td>@carlacortesb ya https://t.co/b5C2ZkbnxZ</td>\n",
       "      <td>http://pbs.twimg.com/ext_tw_video_thumb/838975...</td>\n",
       "      <td>NaN</td>\n",
       "      <td>838976100160188416</td>\n",
       "      <td>3</td>\n",
       "      <td>2</td>\n",
       "      <td>3</td>\n",
       "    </tr>\n",
       "    <tr>\n",
       "      <th>485</th>\n",
       "      <td>838985524874473472</td>\n",
       "      <td>sipionreyes</td>\n",
       "      <td>Xiomara Sipion</td>\n",
       "      <td>26875</td>\n",
       "      <td>498</td>\n",
       "      <td>200</td>\n",
       "      <td>9518</td>\n",
       "      <td>NaN</td>\n",
       "      <td>NaN</td>\n",
       "      <td>True</td>\n",
       "      <td>...</td>\n",
       "      <td>NaN</td>\n",
       "      <td>Tue Mar 07 05:31:51 +0000 2017</td>\n",
       "      <td>&lt;a href=\"http://twitter.com/download/android\" ...</td>\n",
       "      <td>😢😢😢</td>\n",
       "      <td>NaN</td>\n",
       "      <td>NaN</td>\n",
       "      <td>838985524874473472</td>\n",
       "      <td>12</td>\n",
       "      <td>2</td>\n",
       "      <td>12</td>\n",
       "    </tr>\n",
       "    <tr>\n",
       "      <th>568</th>\n",
       "      <td>838994174686932992</td>\n",
       "      <td>FelixMoranS</td>\n",
       "      <td>Felix Moran</td>\n",
       "      <td>278</td>\n",
       "      <td>109</td>\n",
       "      <td>104</td>\n",
       "      <td>67</td>\n",
       "      <td>NaN</td>\n",
       "      <td>NaN</td>\n",
       "      <td>False</td>\n",
       "      <td>...</td>\n",
       "      <td>JorgeRojasCr</td>\n",
       "      <td>Tue Mar 07 06:06:13 +0000 2017</td>\n",
       "      <td>&lt;a href=\"http://twitter.com/download/android\" ...</td>\n",
       "      <td>@JorgeRojasCr https://t.co/0BSCiDanLu</td>\n",
       "      <td>NaN</td>\n",
       "      <td>NaN</td>\n",
       "      <td>838994174686932992</td>\n",
       "      <td>2</td>\n",
       "      <td>2</td>\n",
       "      <td>2</td>\n",
       "    </tr>\n",
       "    <tr>\n",
       "      <th>610</th>\n",
       "      <td>839001123340095488</td>\n",
       "      <td>Santinovelota</td>\n",
       "      <td>Santino Velota</td>\n",
       "      <td>57069</td>\n",
       "      <td>22798</td>\n",
       "      <td>21948</td>\n",
       "      <td>20071</td>\n",
       "      <td>NaN</td>\n",
       "      <td>NaN</td>\n",
       "      <td>True</td>\n",
       "      <td>...</td>\n",
       "      <td>NaN</td>\n",
       "      <td>Tue Mar 07 06:33:50 +0000 2017</td>\n",
       "      <td>&lt;a href=\"http://twitter.com/download/android\" ...</td>\n",
       "      <td>https://t.co/LChhdB89qn</td>\n",
       "      <td>http://pbs.twimg.com/media/C6S7EmBWMAMWqTw.jpg</td>\n",
       "      <td>NaN</td>\n",
       "      <td>839001123340095488</td>\n",
       "      <td>2</td>\n",
       "      <td>2</td>\n",
       "      <td>2</td>\n",
       "    </tr>\n",
       "    <tr>\n",
       "      <th>622</th>\n",
       "      <td>838936166112116736</td>\n",
       "      <td>eagleventura</td>\n",
       "      <td>El Trujillano</td>\n",
       "      <td>162207</td>\n",
       "      <td>2604</td>\n",
       "      <td>2045</td>\n",
       "      <td>2549</td>\n",
       "      <td>Eastern Time (US &amp; Canada)</td>\n",
       "      <td>-14400.0</td>\n",
       "      <td>True</td>\n",
       "      <td>...</td>\n",
       "      <td>NaN</td>\n",
       "      <td>Tue Mar 07 02:15:43 +0000 2017</td>\n",
       "      <td>&lt;a href=\"http://twitter.com/download/android\" ...</td>\n",
       "      <td>#AdiosEntel \\n#AdiosEntel \\n@EntelPeru https:/...</td>\n",
       "      <td>http://pbs.twimg.com/media/C6R_-VNWgAEaXgh.jpg</td>\n",
       "      <td>AdiosEntel;AdiosEntel</td>\n",
       "      <td>838936166112116736</td>\n",
       "      <td>2</td>\n",
       "      <td>2</td>\n",
       "      <td>2</td>\n",
       "    </tr>\n",
       "  </tbody>\n",
       "</table>\n",
       "<p>5 rows × 34 columns</p>\n",
       "</div>"
      ],
      "text/plain": [
       "                     id    screen_name            name  statuses_count  \\\n",
       "245  838976100160188416     danieelaac  Daniela Abarca           33670   \n",
       "485  838985524874473472    sipionreyes  Xiomara Sipion           26875   \n",
       "568  838994174686932992    FelixMoranS     Felix Moran             278   \n",
       "610  839001123340095488  Santinovelota  Santino Velota           57069   \n",
       "622  838936166112116736   eagleventura   El Trujillano          162207   \n",
       "\n",
       "     followers_count  friends_count  favourites_count  \\\n",
       "245              978             89              2750   \n",
       "485              498            200              9518   \n",
       "568              109            104                67   \n",
       "610            22798          21948             20071   \n",
       "622             2604           2045              2549   \n",
       "\n",
       "                      time_zone  utc_offset  geo_enabled     ...      \\\n",
       "245  Central Time (US & Canada)    -21600.0         True     ...       \n",
       "485                         NaN         NaN         True     ...       \n",
       "568                         NaN         NaN        False     ...       \n",
       "610                         NaN         NaN         True     ...       \n",
       "622  Eastern Time (US & Canada)    -14400.0         True     ...       \n",
       "\n",
       "    in_reply_to_screen_name                      created_at  \\\n",
       "245            carlacortesb  Tue Mar 07 04:54:24 +0000 2017   \n",
       "485                     NaN  Tue Mar 07 05:31:51 +0000 2017   \n",
       "568            JorgeRojasCr  Tue Mar 07 06:06:13 +0000 2017   \n",
       "610                     NaN  Tue Mar 07 06:33:50 +0000 2017   \n",
       "622                     NaN  Tue Mar 07 02:15:43 +0000 2017   \n",
       "\n",
       "                                                source  \\\n",
       "245  <a href=\"http://twitter.com/download/iphone\" r...   \n",
       "485  <a href=\"http://twitter.com/download/android\" ...   \n",
       "568  <a href=\"http://twitter.com/download/android\" ...   \n",
       "610  <a href=\"http://twitter.com/download/android\" ...   \n",
       "622  <a href=\"http://twitter.com/download/android\" ...   \n",
       "\n",
       "                                                  text  \\\n",
       "245           @carlacortesb ya https://t.co/b5C2ZkbnxZ   \n",
       "485                                                😢😢😢   \n",
       "568              @JorgeRojasCr https://t.co/0BSCiDanLu   \n",
       "610                            https://t.co/LChhdB89qn   \n",
       "622  #AdiosEntel \\n#AdiosEntel \\n@EntelPeru https:/...   \n",
       "\n",
       "                                             media_url               hashtags  \\\n",
       "245  http://pbs.twimg.com/ext_tw_video_thumb/838975...                    NaN   \n",
       "485                                                NaN                    NaN   \n",
       "568                                                NaN                    NaN   \n",
       "610     http://pbs.twimg.com/media/C6S7EmBWMAMWqTw.jpg                    NaN   \n",
       "622     http://pbs.twimg.com/media/C6R_-VNWgAEaXgh.jpg  AdiosEntel;AdiosEntel   \n",
       "\n",
       "        conversation_id num_replies  num_users  num_tweets  \n",
       "245  838976100160188416           3          2           3  \n",
       "485  838985524874473472          12          2          12  \n",
       "568  838994174686932992           2          2           2  \n",
       "610  839001123340095488           2          2           2  \n",
       "622  838936166112116736           2          2           2  \n",
       "\n",
       "[5 rows x 34 columns]"
      ]
     },
     "execution_count": 13,
     "metadata": {},
     "output_type": "execute_result"
    }
   ],
   "source": [
    "conv_root = conv[(conv.lang=='und') & (conv.in_reply_to_status_id.isnull())]\n",
    "conv_root.head()"
   ]
  },
  {
   "cell_type": "markdown",
   "metadata": {},
   "source": [
    "undefined language , often associated with URL means there is a video or photo, let look how many conversations are in multiple languages"
   ]
  },
  {
   "cell_type": "code",
   "execution_count": 14,
   "metadata": {
    "slideshow": {
     "slide_type": "skip"
    }
   },
   "outputs": [],
   "source": [
    "def show_lang_distribution():\n",
    "    langs = conv.groupby('conversation_id').agg({'lang': 'nunique'})\n",
    "    langs.reset_index(inplace=True)\n",
    "    langs=langs.groupby('lang').size()\n",
    "    langs=langs.sort_values(ascending=False)\n",
    "    langs=langs.reset_index()\n",
    "    langs.columns=['languages', 'conversations']\n",
    "    total = langs.conversations.sum()\n",
    "    langs['percentage'] = langs.conversations / total\n",
    "    langs['pcum'] = langs.conversations.cumsum() / total\n",
    "    langs = langs.head(3)\n",
    "    langs.to_csv('results/lang_distribution.csv', index=False)\n",
    "    return langs"
   ]
  },
  {
   "cell_type": "code",
   "execution_count": 15,
   "metadata": {
    "slideshow": {
     "slide_type": "slide"
    }
   },
   "outputs": [
    {
     "data": {
      "text/html": [
       "<div>\n",
       "<style>\n",
       "    .dataframe thead tr:only-child th {\n",
       "        text-align: right;\n",
       "    }\n",
       "\n",
       "    .dataframe thead th {\n",
       "        text-align: left;\n",
       "    }\n",
       "\n",
       "    .dataframe tbody tr th {\n",
       "        vertical-align: top;\n",
       "    }\n",
       "</style>\n",
       "<table border=\"1\" class=\"dataframe\">\n",
       "  <thead>\n",
       "    <tr style=\"text-align: right;\">\n",
       "      <th></th>\n",
       "      <th>languages</th>\n",
       "      <th>conversations</th>\n",
       "      <th>percentage</th>\n",
       "      <th>pcum</th>\n",
       "    </tr>\n",
       "  </thead>\n",
       "  <tbody>\n",
       "    <tr>\n",
       "      <th>0</th>\n",
       "      <td>1</td>\n",
       "      <td>216138</td>\n",
       "      <td>0.753420</td>\n",
       "      <td>0.753420</td>\n",
       "    </tr>\n",
       "    <tr>\n",
       "      <th>1</th>\n",
       "      <td>2</td>\n",
       "      <td>62992</td>\n",
       "      <td>0.219579</td>\n",
       "      <td>0.972999</td>\n",
       "    </tr>\n",
       "    <tr>\n",
       "      <th>2</th>\n",
       "      <td>3</td>\n",
       "      <td>6165</td>\n",
       "      <td>0.021490</td>\n",
       "      <td>0.994489</td>\n",
       "    </tr>\n",
       "  </tbody>\n",
       "</table>\n",
       "</div>"
      ],
      "text/plain": [
       "   languages  conversations  percentage      pcum\n",
       "0          1         216138    0.753420  0.753420\n",
       "1          2          62992    0.219579  0.972999\n",
       "2          3           6165    0.021490  0.994489"
      ]
     },
     "execution_count": 15,
     "metadata": {},
     "output_type": "execute_result"
    }
   ],
   "source": [
    "show_lang_distribution()"
   ]
  }
 ],
 "metadata": {
  "celltoolbar": "Slideshow",
  "kernelspec": {
   "display_name": "Python 3",
   "language": "python",
   "name": "python3"
  },
  "language_info": {
   "codemirror_mode": {
    "name": "ipython",
    "version": 3
   },
   "file_extension": ".py",
   "mimetype": "text/x-python",
   "name": "python",
   "nbconvert_exporter": "python",
   "pygments_lexer": "ipython3",
   "version": "3.6.1"
  }
 },
 "nbformat": 4,
 "nbformat_minor": 2
}
