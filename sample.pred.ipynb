{
 "cells": [
  {
   "cell_type": "markdown",
   "metadata": {},
   "source": [
    "# generate sample for prediction model"
   ]
  },
  {
   "cell_type": "code",
   "execution_count": 1,
   "metadata": {
    "collapsed": true
   },
   "outputs": [],
   "source": [
    "%matplotlib inline\n",
    "import matplotlib.pyplot as plt\n",
    "import seaborn as sns\n",
    "import pandas as pd\n",
    "import numpy as np\n",
    "import csv\n",
    "from conversation_helper import conversation_filter"
   ]
  },
  {
   "cell_type": "code",
   "execution_count": 2,
   "metadata": {},
   "outputs": [
    {
     "data": {
      "text/plain": [
       "(2716464, 32)"
      ]
     },
     "execution_count": 2,
     "metadata": {},
     "output_type": "execute_result"
    }
   ],
   "source": [
    "ds = pd.read_csv('/Users/john/data/twitter/tweets_merged.csv', \n",
    "                 dtype={\n",
    "                     'id': np.int64,\n",
    "                     'conversation_id': np.int64,\n",
    "                     'screen_name': str,\n",
    "                     'in_reply_to_status_id': object,\n",
    "                     'text': str,\n",
    "                     'num_child_replies': np.int32\n",
    "                       })\n",
    "ds.shape"
   ]
  },
  {
   "cell_type": "code",
   "execution_count": 3,
   "metadata": {},
   "outputs": [
    {
     "data": {
      "text/plain": [
       "(286876, 34)"
      ]
     },
     "execution_count": 3,
     "metadata": {},
     "output_type": "execute_result"
    }
   ],
   "source": [
    "conv = conversation_filter(ds, only_roots=True)\n",
    "conv.shape"
   ]
  },
  {
   "cell_type": "markdown",
   "metadata": {},
   "source": [
    "# sample"
   ]
  },
  {
   "cell_type": "code",
   "execution_count": 4,
   "metadata": {},
   "outputs": [
    {
     "data": {
      "text/plain": [
       "(1000, 32)"
      ]
     },
     "execution_count": 4,
     "metadata": {},
     "output_type": "execute_result"
    }
   ],
   "source": [
    "nonconv = ds[ds.num_child_replies==1]\n",
    "nonconv = nonconv.sample(1000, random_state=0)\n",
    "nonconv.shape"
   ]
  },
  {
   "cell_type": "code",
   "execution_count": 6,
   "metadata": {},
   "outputs": [
    {
     "data": {
      "text/plain": [
       "(9805, 32)"
      ]
     },
     "execution_count": 6,
     "metadata": {},
     "output_type": "execute_result"
    }
   ],
   "source": [
    "sampleconv = conv[conv.lang.isin(['es','en','und'])]\n",
    "sampleconv = sampleconv.sample(1000, weights='num_child_replies',  random_state=0)\n",
    "sampleconv= ds[ds.conversation_id.isin(sampleconv.conversation_id.values)]\n",
    "sampleconv.shape"
   ]
  },
  {
   "cell_type": "markdown",
   "metadata": {},
   "source": [
    "merge the two samples"
   ]
  },
  {
   "cell_type": "code",
   "execution_count": 7,
   "metadata": {},
   "outputs": [
    {
     "data": {
      "text/plain": [
       "(10805, 32)"
      ]
     },
     "execution_count": 7,
     "metadata": {},
     "output_type": "execute_result"
    }
   ],
   "source": [
    "sample = nonconv.append(sampleconv, ignore_index=True)\n",
    "sample.shape"
   ]
  },
  {
   "cell_type": "code",
   "execution_count": 8,
   "metadata": {},
   "outputs": [
    {
     "data": {
      "text/plain": [
       "id                           int64\n",
       "screen_name                 object\n",
       "name                        object\n",
       "statuses_count               int64\n",
       "followers_count              int64\n",
       "friends_count                int64\n",
       "favourites_count             int64\n",
       "time_zone                   object\n",
       "utc_offset                 float64\n",
       "geo_enabled                   bool\n",
       "location                    object\n",
       "description                 object\n",
       "latitude                   float64\n",
       "longitude                  float64\n",
       "place_type                  object\n",
       "place_name                  object\n",
       "place_full_name             object\n",
       "place_country               object\n",
       "retweet_count                int64\n",
       "favorite_count               int64\n",
       "retweeted                     bool\n",
       "possibly_sensitive            bool\n",
       "lang                        object\n",
       "in_reply_to_status_id       object\n",
       "in_reply_to_screen_name     object\n",
       "created_at                  object\n",
       "source                      object\n",
       "text                        object\n",
       "media_url                   object\n",
       "hashtags                    object\n",
       "conversation_id              int64\n",
       "num_child_replies            int32\n",
       "dtype: object"
      ]
     },
     "execution_count": 8,
     "metadata": {},
     "output_type": "execute_result"
    }
   ],
   "source": [
    "sample.dtypes"
   ]
  },
  {
   "cell_type": "code",
   "execution_count": 11,
   "metadata": {},
   "outputs": [],
   "source": [
    "sample.to_csv('dataset/sampleconv.csv', index=False, quoting=csv.QUOTE_NONNUMERIC)"
   ]
  }
 ],
 "metadata": {
  "kernelspec": {
   "display_name": "Python 3",
   "language": "python",
   "name": "python3"
  },
  "language_info": {
   "codemirror_mode": {
    "name": "ipython",
    "version": 3
   },
   "file_extension": ".py",
   "mimetype": "text/x-python",
   "name": "python",
   "nbconvert_exporter": "python",
   "pygments_lexer": "ipython3",
   "version": "3.6.1"
  }
 },
 "nbformat": 4,
 "nbformat_minor": 2
}
